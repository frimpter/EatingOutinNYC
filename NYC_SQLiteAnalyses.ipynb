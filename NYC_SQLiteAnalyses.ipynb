{
 "cells": [
  {
   "cell_type": "code",
   "execution_count": null,
   "metadata": {
    "collapsed": true
   },
   "outputs": [],
   "source": [
    "# dependencies\n",
    "\n",
    "import pandas as pd\n",
    "import numpy as np\n",
    "import os\n",
    "\n",
    "\n",
    "import sqlalchemy\n",
    "from sqlalchemy import create_engine, MetaData\n",
    "from sqlalchemy import Column, Float, Integer, String, Date\n",
    "from sqlalchemy.ext.declarative import declarative_base\n",
    "Base = declarative_base()"
   ]
  },
  {
   "cell_type": "code",
   "execution_count": null,
   "metadata": {
    "collapsed": true
   },
   "outputs": [],
   "source": [
    "engine = create_engine(\"sqlite:///EatingOutNYC.sqlite\")\n",
    "conn = engine.connect()"
   ]
  },
  {
   "cell_type": "code",
   "execution_count": null,
   "metadata": {
    "collapsed": true
   },
   "outputs": [],
   "source": [
    "# create a class for the Restaurants table\n",
    "\n",
    "class Restaurants(Base):\n",
    "    __tablename__ = \"Restaurants\"\n",
    "    \n",
    "    Restaurant_ID = Column(Integer, primary_key = True)\n",
    "    CAMIS = Column(Integer)\n",
    "    DBA = Column(String)\n",
    "    BORO = Column(String)\n",
    "    BUILDING = Column(Integer)\n",
    "    STREET = Column(String)\n",
    "    ZIPCODE = Column(Integer)\n",
    "    PHONE = Column(Integer)\n",
    "    CUISINE_DESCRIPTION = Column(String)\n",
    "    CUISINE = Column(String)\n",
    "    LIC_STATUS = Column(String)\n",
    "    SWC_TYPE = Column(String)\n",
    "    LATITUDE = Column(String)\n",
    "    LONGITUDE = Column(String)\n",
    "    ISSUANCE = Column(String)\n",
    "    ISSUANCE_DD = Column(String)\n",
    "    \n",
    "    \n",
    "    def __repr__(self):\n",
    "        return f\"id = {self.id}, CAMIS = {self.CAMIS}, DBA = {self.DBA}, BORO = {self.BORO}, BUILDING = {self.BUILDING}, STREET = {self.STREET}, ZIPCODE = {self.ZIPCODE}, PHONE = {self.PHONE}, CUISINE_DESCRIPTION = {self.CUISINE_DESCRIPTION}, CUISINE = {self.CUISINE}, LIC_STATUS = {self.LIC_STATUS}, SWC_TYPE = {self.SWC_TYPE}, LATITUDE = {self.LATITUDE}, LONGITUDE = {self.LONGITUDE}, ISSUANCE = {self.ISSUANCE}, ISSUANCE_DD = {self.ISSUANCE_DD}\"   \n",
    "\n"
   ]
  },
  {
   "cell_type": "code",
   "execution_count": null,
   "metadata": {
    "collapsed": true
   },
   "outputs": [],
   "source": [
    "# create a class for the Inspections table\n",
    "\n",
    "class Inspections(Base):\n",
    "    __tablename__ = \"Inspections\"\n",
    "    \n",
    "    Inspections_ID = Column(Integer, primary_key = True)\n",
    "    CAMIS = Column(Integer)\n",
    "    INSPECTION_DATE = Column(String)\n",
    "    INSPECTION_DAY = Column(Integer)\n",
    "    INSPECTION_MONTH = Column(Integer)\n",
    "    INSPECTION_WEEKDAY = Column(Integer)\n",
    "    INSPECTION_YEAR = Column(Integer)\n",
    "    ACTION = Column(String)\n",
    "    VIOLATION_CODE = Column(String)\n",
    "    VIOLATION_DESCRIPTION = Column(String)\n",
    "    CRITICAL_FLAG = Column(String)\n",
    "    SCORE = Column(Integer)\n",
    "    GRADE = Column(String)\n",
    "    INSPECTION_TYPE = Column(String) \n",
    "    \n",
    "    def __repr__(self):\n",
    "        return f\"id = {self.id}, CAMIS = {self.CAMIS}, INSPECTION_DATE = {self.INSPECTION_DATE}, INSPECTION_DAY = {self.INSPECTION_DAY}, INSPECTION_MONTH = {self.INSPECTION_MONTH}, INSPECTION_WEEKDAY = {self.INSPECTION_WEEKDAY}, INSPECTION_YEAR = {self.INSPECTION_YEAR}, ACTION = {self.ACTION}, VIOLATION_CODE = {self.VIOLATION_CODE}, VIOLATION_DESCRIPTION = {self.VIOLATION_DESCRIPTION}, CRITICAL_FLAG = {self.CRITICAL_FLAG}, SCORE = {self.SCORE}, GRADE = {self.GRADE}, INSPECTION_TYPE = {self.INSPECTION_TYPE}\"   \n",
    "\n"
   ]
  },
  {
   "cell_type": "code",
   "execution_count": null,
   "metadata": {
    "collapsed": true
   },
   "outputs": [],
   "source": [
    "Base.metadata.create_all(engine)"
   ]
  },
  {
   "cell_type": "code",
   "execution_count": null,
   "metadata": {
    "collapsed": true
   },
   "outputs": [],
   "source": [
    "# load the Restaurants csv file into a dict\n",
    "Restaurants_df = pd.read_csv('Restaurants.csv')\n",
    "Restaurants_data = Restaurants_df.to_dict(orient='records')\n",
    "#print(Restaurants_data[:5])"
   ]
  },
  {
   "cell_type": "code",
   "execution_count": null,
   "metadata": {
    "collapsed": true
   },
   "outputs": [],
   "source": [
    "# load the Inspections csv file into a dict\n",
    "Inspections_df = pd.read_csv('Inspections.csv')\n",
    "Inspections_data = Inspections_df.to_dict(orient='records')\n",
    "#print(Inspections_data[:5])"
   ]
  },
  {
   "cell_type": "code",
   "execution_count": null,
   "metadata": {
    "collapsed": true
   },
   "outputs": [],
   "source": [
    "metadata = MetaData(bind = engine)\n",
    "metadata.reflect()"
   ]
  },
  {
   "cell_type": "code",
   "execution_count": null,
   "metadata": {
    "collapsed": true
   },
   "outputs": [],
   "source": [
    "Restaurants = sqlalchemy.Table('Restaurants', metadata, autoload=True)"
   ]
  },
  {
   "cell_type": "code",
   "execution_count": null,
   "metadata": {
    "collapsed": true
   },
   "outputs": [],
   "source": [
    "Inspections = sqlalchemy.Table('Inspections', metadata, autoload=True)"
   ]
  },
  {
   "cell_type": "code",
   "execution_count": null,
   "metadata": {
    "collapsed": true
   },
   "outputs": [],
   "source": [
    "# empty out any data that may exist in Restaurants table from prior run \n",
    "conn.execute(Restaurants.delete())"
   ]
  },
  {
   "cell_type": "code",
   "execution_count": null,
   "metadata": {
    "collapsed": true
   },
   "outputs": [],
   "source": [
    "# empty out any data that may exist in Inspections table from prior run \n",
    "conn.execute(Inspections.delete())"
   ]
  },
  {
   "cell_type": "code",
   "execution_count": null,
   "metadata": {
    "collapsed": true
   },
   "outputs": [],
   "source": [
    "# populate the Restaurants table\n",
    "conn.execute(Restaurants.insert(), Restaurants_data)"
   ]
  },
  {
   "cell_type": "code",
   "execution_count": null,
   "metadata": {
    "collapsed": true
   },
   "outputs": [],
   "source": [
    "# populate the Inspections table\n",
    "conn.execute(Inspections.insert(), Inspections_data)"
   ]
  },
  {
   "cell_type": "code",
   "execution_count": null,
   "metadata": {
    "collapsed": true
   },
   "outputs": [],
   "source": [
    "# show the first 5 rows from the Restaurants table. \n",
    "conn.execute(\"select * from Restaurants limit 5\").fetchall()"
   ]
  },
  {
   "cell_type": "code",
   "execution_count": null,
   "metadata": {
    "collapsed": true
   },
   "outputs": [],
   "source": [
    "# count how many Restaurants are in the Restaurants table\n",
    "Restaurantscount = conn.execute(\"select count(*) from Restaurants;\")\n",
    "print(Restaurantscount.scalar())"
   ]
  },
  {
   "cell_type": "code",
   "execution_count": null,
   "metadata": {
    "collapsed": true
   },
   "outputs": [],
   "source": [
    "# show the first 5 rows from the Inspections table. \n",
    "conn.execute(\"select * from Inspections limit 5\").fetchall()"
   ]
  },
  {
   "cell_type": "code",
   "execution_count": null,
   "metadata": {
    "collapsed": true
   },
   "outputs": [],
   "source": [
    "# count how many Inspections are in the Inspections table\n",
    "Inspectionscount = conn.execute(\"select count(*) from Inspections;\")\n",
    "print(Inspectionscount.scalar())"
   ]
  },
  {
   "cell_type": "code",
   "execution_count": null,
   "metadata": {
    "collapsed": true
   },
   "outputs": [],
   "source": [
    "# let's test an example of composite SQL query\n",
    "\n",
    "conn.execute(\"SELECT Inspections.VIOLATION_DESCRIPTION FROM Restaurants INNER JOIN Inspections ON Restaurants.CAMIS = Inspections.CAMIS WHERE (((Restaurants.CAMIS)=40662196));\").fetchall()"
   ]
  },
  {
   "cell_type": "code",
   "execution_count": null,
   "metadata": {
    "collapsed": true
   },
   "outputs": [],
   "source": [
    "###################\n",
    "# VIOLATIONS DATA #\n",
    "###################"
   ]
  },
  {
   "cell_type": "code",
   "execution_count": null,
   "metadata": {
    "collapsed": true
   },
   "outputs": [],
   "source": [
    "# Add columns for the violation types\n",
    "\n",
    "conn.execute(\"ALTER TABLE Inspections ADD COLUMN MICE INT\")\n",
    "conn.execute(\"ALTER TABLE Inspections ADD COLUMN RATS INT\")\n",
    "conn.execute(\"ALTER TABLE Inspections ADD COLUMN ROACHES INT\")\n",
    "conn.execute(\"ALTER TABLE Inspections ADD COLUMN FLIES INT\")\n",
    "conn.execute(\"ALTER TABLE Inspections ADD COLUMN HANDS INT\")\n",
    "conn.execute(\"ALTER TABLE Inspections ADD COLUMN SANITIZE INT\")\n"
   ]
  },
  {
   "cell_type": "code",
   "execution_count": null,
   "metadata": {
    "collapsed": true
   },
   "outputs": [],
   "source": [
    "# Populate the new columns where they appear in the violation description\n",
    "conn.execute(\"UPDATE Inspections SET MICE=1 WHERE Inspections.VIOLATION_DESCRIPTION LIKE '%mice%'\")\n",
    "conn.execute(\"UPDATE Inspections SET RATS=1 WHERE Inspections.VIOLATION_DESCRIPTION LIKE '%rats%'\")\n",
    "conn.execute(\"UPDATE Inspections SET ROACHES=1 WHERE Inspections.VIOLATION_DESCRIPTION LIKE '%roach%'\")\n",
    "conn.execute(\"UPDATE Inspections SET FLIES=1 WHERE Inspections.VIOLATION_DESCRIPTION LIKE '%flies%'\")\n",
    "conn.execute(\"UPDATE Inspections SET HANDS=1 WHERE Inspections.VIOLATION_DESCRIPTION LIKE '%hand%'\")\n",
    "conn.execute(\"UPDATE Inspections SET SANITIZE=1 WHERE Inspections.VIOLATION_DESCRIPTION LIKE '%sanitiz%'\")\n",
    "\n",
    "#conn.execute(\"SELECT * FROM Inspections limit 5\").fetchall()\n"
   ]
  },
  {
   "cell_type": "code",
   "execution_count": null,
   "metadata": {
    "collapsed": true
   },
   "outputs": [],
   "source": [
    "# Query for the data to check the right columns are returned\n",
    "\n",
    "#conn.execute(\"SELECT Restaurants.CAMIS, Restaurants.DBA, Restaurants.BORO, Restaurants.CUISINE, Restaurants.LIC_STATUS, Inspections.INSPECTION_DATE, Inspections.SCORE, Inspections.GRADE, Inspections.CRITICAL_FLAG, Inspections.MICE, Inspections.RATS, Inspections.ROACHES, Inspections.FLIES, Inspections.HANDS, Inspections.SANITIZE FROM Restaurants INNER JOIN Inspections ON Restaurants.CAMIS=Inspections.CAMIS LIMIT 5\").fetchall()\n"
   ]
  },
  {
   "cell_type": "code",
   "execution_count": null,
   "metadata": {
    "collapsed": true
   },
   "outputs": [],
   "source": [
    "# Make a DataFrame and Review\n",
    "\n",
    "violations = conn.execute(\"SELECT Restaurants.CAMIS, Restaurants.DBA, Restaurants.BORO, Restaurants.CUISINE, Restaurants.LIC_STATUS, Inspections.INSPECTION_DATE, Inspections.SCORE, Inspections.GRADE, Inspections.CRITICAL_FLAG, Inspections.MICE, Inspections.RATS, Inspections.ROACHES, Inspections.FLIES, Inspections.HANDS, Inspections.SANITIZE FROM Restaurants INNER JOIN Inspections ON Restaurants.CAMIS=Inspections.CAMIS\").fetchall()\n",
    "violations_df = pd.DataFrame(violations, columns=[\"CAMIS\", \"DBA\",\"BORO\",\"CUISINE\",\"LIC_STATUS\",\"INSPECTION_DATE\",\"SCORE\",\"GRADE\",\"CRITICAL_FLAG\",\"MICE\",\"RATS\",\"ROACHES\",\"FLIES\",\"HANDS\",\"SANITIZE\"])\n",
    "\n",
    "# Convert NaNs to 0 and confirm numeric columns are numeric variable type\n",
    "violations_df = violations_df.fillna(0)\n",
    "violations_df[violations_df.columns] = violations_df[violations_df.columns].apply(pd.to_numeric, errors=\"ignore\")\n",
    "\n",
    "# violations_df.head()\n"
   ]
  },
  {
   "cell_type": "code",
   "execution_count": null,
   "metadata": {
    "collapsed": true
   },
   "outputs": [],
   "source": [
    "# Orient the data to what we need to graph in Plotly\n",
    "\n",
    "# SELECT VIOLATIONS BY BORO\n",
    "\n",
    "boro_df = violations_df[[\"BORO\",\"MICE\",\"RATS\",\"ROACHES\",\"FLIES\",\"HANDS\",\"SANITIZE\"]]\n",
    "boro_df = boro_df[boro_df.BORO != 'Missing']\n",
    "# boro_df.shape\n",
    "# boro_df.head()\n",
    "\n",
    "boro_df = boro_df.groupby([\"BORO\"], as_index=False).sum()\n",
    "boro_df[\"TOTAL\"] = boro_df[\"MICE\"] + boro_df[\"RATS\"] + boro_df[\"ROACHES\"] + boro_df[\"FLIES\"] + boro_df[\"HANDS\"] + boro_df[\"SANITIZE\"]\n",
    "\n",
    "boro_df[\"MICEpct\"] = (boro_df[\"MICE\"] / boro_df[\"TOTAL\"])*100\n",
    "boro_df[\"RATSpct\"] = (boro_df[\"RATS\"] / boro_df[\"TOTAL\"])*100\n",
    "boro_df[\"ROACHESpct\"] = (boro_df[\"ROACHES\"] / boro_df[\"TOTAL\"])*100\n",
    "boro_df[\"FLIESpct\"] = (boro_df[\"FLIES\"] / boro_df[\"TOTAL\"])*100\n",
    "boro_df[\"HANDSpct\"] = (boro_df[\"HANDS\"] / boro_df[\"TOTAL\"])*100\n",
    "boro_df[\"SANITIZEpct\"] = (boro_df[\"SANITIZE\"] / boro_df[\"TOTAL\"])*100\n",
    "boro_df[\"TOTALpct\"] = boro_df[\"MICEpct\"] + boro_df[\"RATSpct\"] + boro_df[\"ROACHESpct\"] + boro_df[\"FLIESpct\"] + boro_df[\"HANDSpct\"] + boro_df[\"SANITIZEpct\"]\n",
    "\n",
    "# boro_df\n",
    "\n",
    "# EXPORT BORO VIOLATIONS DATA TO JSON FILE\n",
    "boro_df.to_json(\"VIOL_BORO.json\", orient=\"records\")\n"
   ]
  },
  {
   "cell_type": "code",
   "execution_count": null,
   "metadata": {
    "collapsed": true
   },
   "outputs": [],
   "source": [
    "# SELECT VIOLATIONS BY CUISINE TYPE\n",
    "\n",
    "cuisine_df = violations_df[[\"CUISINE\",\"MICE\",\"RATS\",\"ROACHES\",\"FLIES\",\"HANDS\",\"SANITIZE\"]]\n",
    "#cuisine_df.head()\n",
    "\n",
    "cuisine_df = cuisine_df.groupby(\"CUISINE\", as_index=False).sum()\n",
    "cuisine_df[\"TOTAL\"] = cuisine_df[\"MICE\"] + cuisine_df[\"RATS\"] + cuisine_df[\"ROACHES\"] + cuisine_df[\"FLIES\"] + cuisine_df[\"HANDS\"] + cuisine_df[\"SANITIZE\"]\n",
    "\n",
    "cuisine_df[\"MICEpct\"] = (cuisine_df[\"MICE\"] / cuisine_df[\"TOTAL\"])*100\n",
    "cuisine_df[\"RATSpct\"] = (cuisine_df[\"RATS\"] / cuisine_df[\"TOTAL\"])*100\n",
    "cuisine_df[\"ROACHESpct\"] = (cuisine_df[\"ROACHES\"] / cuisine_df[\"TOTAL\"])*100\n",
    "cuisine_df[\"FLIESpct\"] = (cuisine_df[\"FLIES\"] / cuisine_df[\"TOTAL\"])*100\n",
    "cuisine_df[\"HANDSpct\"] = (cuisine_df[\"HANDS\"] / cuisine_df[\"TOTAL\"])*100\n",
    "cuisine_df[\"SANITIZEpct\"] = (cuisine_df[\"SANITIZE\"] / cuisine_df[\"TOTAL\"])*100\n",
    "\n",
    "cuisine_df[\"TOTALpct\"] = cuisine_df[\"MICEpct\"] + cuisine_df[\"RATSpct\"] + cuisine_df[\"ROACHESpct\"] + cuisine_df[\"FLIESpct\"] + cuisine_df[\"HANDSpct\"] + cuisine_df[\"SANITIZEpct\"]\n",
    "cuisine_df\n",
    "\n",
    "#cuisine_df.to_json(\"VIOL_CUISINE.json\", orient=\"records\")\n"
   ]
  }
 ],
 "metadata": {
  "kernelspec": {
   "display_name": "Python 3",
   "language": "python",
   "name": "python3"
  },
  "language_info": {
   "codemirror_mode": {
    "name": "ipython",
    "version": 3
   },
   "file_extension": ".py",
   "mimetype": "text/x-python",
   "name": "python",
   "nbconvert_exporter": "python",
   "pygments_lexer": "ipython3",
   "version": "3.6.3"
  }
 },
 "nbformat": 4,
 "nbformat_minor": 2
}
